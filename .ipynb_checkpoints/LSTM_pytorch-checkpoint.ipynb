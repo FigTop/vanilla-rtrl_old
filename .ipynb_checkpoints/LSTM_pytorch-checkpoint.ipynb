{
 "cells": [
  {
   "cell_type": "code",
   "execution_count": 1,
   "metadata": {},
   "outputs": [],
   "source": [
    "from gen_data import *\n",
    "import torch\n",
    "import torch.nn as nn\n",
    "from torch.utils.data import TensorDataset, DataLoader\n",
    "import matplotlib.pyplot as plt"
   ]
  },
  {
   "cell_type": "code",
   "execution_count": 23,
   "metadata": {},
   "outputs": [],
   "source": [
    "# Here we define our model as a class\n",
    "class RNN(nn.Module):\n",
    "\n",
    "    def __init__(self, input_dim, hidden_dim, batch_size, output_dim=1,\n",
    "                    num_layers=2):\n",
    "        super(RNN, self).__init__()\n",
    "        self.input_dim = input_dim\n",
    "        self.hidden_dim = hidden_dim\n",
    "        self.batch_size = batch_size\n",
    "        self.num_layers = num_layers\n",
    "\n",
    "        # Define the LSTM layer\n",
    "        #self.lstm = nn.LSTM(self.input_dim, self.hidden_dim, self.num_layers)\n",
    "        self.rnn = nn.RNN(self.input_dim, self.hidden_dim, self.num_layers)\n",
    "        # Define the output layer\n",
    "        self.linear = nn.Linear(self.hidden_dim, output_dim)\n",
    "\n",
    "    def init_hidden(self):\n",
    "        return torch.zeros(self.num_layers, self.batch_size, self.hidden_dim)\n",
    "        \n",
    "                \n",
    "    def forward(self, x):\n",
    "        # Forward pass through LSTM layer\n",
    "        # shape of lstm_out: [input_size, batch_size, hidden_dim]\n",
    "        # shape of self.hidden: (h, c), where h and c both \n",
    "        # have shape (num_layers, batch_size, hidden_dim).\n",
    "        hidden = self.init_hidden()\n",
    "        \n",
    "        lstm_out, hidden = self.rnn(x, hidden)\n",
    "        # print(lstm_out.shape)\n",
    "        #print (self.lstm.weight_ih_l0)\n",
    "        \n",
    "        y_pred = self.linear(lstm_out.view(-1, self.hidden_dim))\n",
    "\n",
    "        return y_pred\n"
   ]
  },
  {
   "cell_type": "code",
   "execution_count": 28,
   "metadata": {},
   "outputs": [],
   "source": [
    "# Here we define our model as a class\n",
    "class LSTM(nn.Module):\n",
    "\n",
    "    def __init__(self, input_dim, hidden_dim, batch_size, output_dim=1,\n",
    "                    num_layers=2):\n",
    "        super(LSTM, self).__init__()\n",
    "        self.input_dim = input_dim\n",
    "        self.hidden_dim = hidden_dim\n",
    "        self.batch_size = batch_size\n",
    "        self.num_layers = num_layers\n",
    "\n",
    "        # Define the LSTM layer\n",
    "        self.lstm = nn.LSTM(self.input_dim, self.hidden_dim, self.num_layers)\n",
    "        #self.lstm = nn.RNN(self.input_dim, self.hidden_dim, self.num_layers)\n",
    "        # Define the output layer\n",
    "        self.linear = nn.Linear(self.hidden_dim, output_dim)\n",
    "\n",
    "    def init_hidden(self):\n",
    "        return (torch.zeros(self.num_layers, self.batch_size, self.hidden_dim),\n",
    "                torch.zeros(self.num_layers, self.batch_size, self.hidden_dim))\n",
    "        \n",
    "                \n",
    "    def forward(self, x):\n",
    "        # Forward pass through LSTM layer\n",
    "        # shape of lstm_out: [input_size, batch_size, hidden_dim]\n",
    "        # shape of self.hidden: (h, c), where h and c both \n",
    "        # have shape (num_layers, batch_size, hidden_dim).\n",
    "        hidden = self.init_hidden()\n",
    "        \n",
    "        lstm_out, hidden = self.lstm(x,hidden)\n",
    "        # print(lstm_out.shape)\n",
    "        #print (self.lstm.weight_ih_l0)\n",
    "        \n",
    "        y_pred = self.linear(lstm_out.view(-1, self.hidden_dim))\n",
    "\n",
    "        return y_pred\n"
   ]
  },
  {
   "cell_type": "code",
   "execution_count": 41,
   "metadata": {},
   "outputs": [],
   "source": [
    "#####################\n",
    "# Generate data\n",
    "#####################\n",
    "num_train=20000\n",
    "num_test=10000\n",
    "task = Add_Task(6, 10, deterministic=True, tau_task=1)\n",
    "data = task.gen_data(num_train, num_test)\n",
    "X_train_a = data['train']['X']\n",
    "y_train_a = data['train']['Y']#[:,0]\n",
    "X_test_a = data['test']['X']\n",
    "y_test_a = data['train']['Y']#[:,0]\n",
    "\n",
    "# make training and test sets in torch\n",
    "X_train = torch.from_numpy(X_train_a).type(torch.Tensor)\n",
    "X_test = torch.from_numpy(X_test_a).type(torch.Tensor)\n",
    "y_train = torch.from_numpy(y_train_a).type(torch.Tensor)\n",
    "y_test = torch.from_numpy(y_test_a).type(torch.Tensor)\n"
   ]
  },
  {
   "cell_type": "code",
   "execution_count": 14,
   "metadata": {},
   "outputs": [
    {
     "data": {
      "text/plain": [
       "array([[0.25, 0.75],\n",
       "       [0.5 , 0.5 ],\n",
       "       [0.25, 0.75],\n",
       "       ...,\n",
       "       [0.5 , 0.5 ],\n",
       "       [1.  , 0.  ],\n",
       "       [0.75, 0.25]])"
      ]
     },
     "execution_count": 14,
     "metadata": {},
     "output_type": "execute_result"
    }
   ],
   "source": [
    "y_train_a"
   ]
  },
  {
   "cell_type": "code",
   "execution_count": 42,
   "metadata": {},
   "outputs": [],
   "source": [
    "#####################\n",
    "# Set parameters\n",
    "#####################\n",
    "# Data params\n",
    "\n",
    "# Network params\n",
    "input_size = 2\n",
    "batch_size = 1\n",
    "# size of hidden layers\n",
    "hidden_dim = 32\n",
    "output_dim = 2\n",
    "num_layers = 1\n",
    "learning_rate = 0.1\n",
    "num_epochs = 120\n",
    "dtype = torch.float\n",
    "\n",
    "X_train = X_train.view([-1, batch_size, input_size])\n",
    "X_test = X_test.view([-1, batch_size, input_size])\n"
   ]
  },
  {
   "cell_type": "code",
   "execution_count": 16,
   "metadata": {},
   "outputs": [],
   "source": [
    "def cross_entropy(pred, soft_targets):\n",
    "    logsoftmax = nn.LogSoftmax(dim=1)\n",
    "    return torch.mean(torch.sum(-soft_targets * logsoftmax(pred),1))"
   ]
  },
  {
   "cell_type": "code",
   "execution_count": 43,
   "metadata": {},
   "outputs": [
    {
     "ename": "TypeError",
     "evalue": "'float' object cannot be interpreted as an integer",
     "output_type": "error",
     "traceback": [
      "\u001b[0;31m---------------------------------------------------------------------------\u001b[0m",
      "\u001b[0;31mTypeError\u001b[0m                                 Traceback (most recent call last)",
      "\u001b[0;32m<ipython-input-43-e1c7dcb0de24>\u001b[0m in \u001b[0;36m<module>\u001b[0;34m\u001b[0m\n\u001b[1;32m     19\u001b[0m     \u001b[0;31m#model.hidden = model.init_hidden()\u001b[0m\u001b[0;34m\u001b[0m\u001b[0;34m\u001b[0m\u001b[0;34m\u001b[0m\u001b[0m\n\u001b[1;32m     20\u001b[0m     \u001b[0;31m# Forward pass\u001b[0m\u001b[0;34m\u001b[0m\u001b[0;34m\u001b[0m\u001b[0;34m\u001b[0m\u001b[0m\n\u001b[0;32m---> 21\u001b[0;31m     \u001b[0;32mfor\u001b[0m \u001b[0mi\u001b[0m \u001b[0;32min\u001b[0m \u001b[0mrange\u001b[0m\u001b[0;34m(\u001b[0m\u001b[0mrounds\u001b[0m\u001b[0;34m)\u001b[0m\u001b[0;34m:\u001b[0m\u001b[0;34m\u001b[0m\u001b[0;34m\u001b[0m\u001b[0m\n\u001b[0m\u001b[1;32m     22\u001b[0m         \u001b[0mX_train_s\u001b[0m \u001b[0;34m=\u001b[0m \u001b[0mX_train\u001b[0m\u001b[0;34m[\u001b[0m\u001b[0mi\u001b[0m\u001b[0;34m*\u001b[0m\u001b[0mT\u001b[0m\u001b[0;34m:\u001b[0m\u001b[0;34m(\u001b[0m\u001b[0mi\u001b[0m\u001b[0;34m+\u001b[0m\u001b[0;36m1\u001b[0m\u001b[0;34m)\u001b[0m\u001b[0;34m*\u001b[0m\u001b[0mT\u001b[0m\u001b[0;34m]\u001b[0m\u001b[0;34m\u001b[0m\u001b[0;34m\u001b[0m\u001b[0m\n\u001b[1;32m     23\u001b[0m         \u001b[0my_train_s\u001b[0m \u001b[0;34m=\u001b[0m \u001b[0my_train\u001b[0m\u001b[0;34m[\u001b[0m\u001b[0mi\u001b[0m\u001b[0;34m*\u001b[0m\u001b[0mT\u001b[0m\u001b[0;34m:\u001b[0m\u001b[0;34m(\u001b[0m\u001b[0mi\u001b[0m\u001b[0;34m+\u001b[0m\u001b[0;36m1\u001b[0m\u001b[0;34m)\u001b[0m\u001b[0;34m*\u001b[0m\u001b[0mT\u001b[0m\u001b[0;34m]\u001b[0m\u001b[0;34m\u001b[0m\u001b[0;34m\u001b[0m\u001b[0m\n",
      "\u001b[0;31mTypeError\u001b[0m: 'float' object cannot be interpreted as an integer"
     ]
    }
   ],
   "source": [
    "#####################\n",
    "# Build model\n",
    "#####################\n",
    "\n",
    "#model = RNN(input_size, hidden_dim, batch_size=batch_size, output_dim=output_dim, num_layers=num_layers)\n",
    "model = LSTM(input_size, hidden_dim, batch_size=batch_size, output_dim=output_dim, num_layers=num_layers)\n",
    "loss_fn = torch.nn.MSELoss()\n",
    "optimizer = torch.optim.SGD(model.parameters(), lr=learning_rate)\n",
    "T = 100\n",
    "rounds = num_train//T\n",
    "#####################\n",
    "# Train model\n",
    "#####################\n",
    "\n",
    "hist = np.zeros(num_epochs)\n",
    "\n",
    "for t in range(num_epochs):\n",
    "    \n",
    "    #model.hidden = model.init_hidden()\n",
    "    # Forward pass\n",
    "    for i in range(rounds):\n",
    "        X_train_s = X_train[i*T:(i+1)*T]\n",
    "        y_train_s = y_train[i*T:(i+1)*T]\n",
    "        y_pred = model(X_train_s)\n",
    "        loss = cross_entropy(y_pred, y_train_s)\n",
    "\n",
    "        # Zero out gradient, else they will accumulate between epochs\n",
    "        optimizer.zero_grad()\n",
    "        loss.backward()\n",
    "        # Update parameters\n",
    "        optimizer.step()\n",
    "        \n",
    "    if t % 30 == 0:\n",
    "        print(\"Epoch \", t, \"CE: \", loss.item())\n",
    "    hist[t] = loss.item()\n",
    "\n"
   ]
  },
  {
   "cell_type": "code",
   "execution_count": null,
   "metadata": {},
   "outputs": [],
   "source": [
    "#####################\n",
    "# Plot preds and performance\n",
    "#####################\n",
    "softmax = nn.Softmax(dim=1)\n",
    "y_prob = softmax(y_pred)\n",
    "plt.plot(y_prob.detach().numpy()[:100,0],label=\"Preds\")\n",
    "plt.plot(y_train.detach().numpy()[:100,0],label=\"Data\")\n",
    "plt.legend()\n",
    "plt.show()\n",
    "\n",
    "plt.plot(hist, label=\"Training loss\")\n",
    "plt.legend()\n",
    "plt.show()\n"
   ]
  },
  {
   "cell_type": "code",
   "execution_count": null,
   "metadata": {},
   "outputs": [],
   "source": [
    "net = nn.LSTM(100, 100) #Assume only one layer\n",
    "w_ii, w_if, w_ic, w_io = net.weight_ih_l0.chunk(4, 0)\n",
    "w_hi, w_hf, w_hc, w_ho = net.weight_hh_l0.chunk(4, 0)\n"
   ]
  },
  {
   "cell_type": "code",
   "execution_count": null,
   "metadata": {},
   "outputs": [],
   "source": []
  }
 ],
 "metadata": {
  "kernelspec": {
   "display_name": "Python 3.7.4 64-bit ('base': conda)",
   "language": "python",
   "name": "python37464bitbasecondaa1c907c8de714344950d8411bbb5a6ec"
  },
  "language_info": {
   "codemirror_mode": {
    "name": "ipython",
    "version": 3
   },
   "file_extension": ".py",
   "mimetype": "text/x-python",
   "name": "python",
   "nbconvert_exporter": "python",
   "pygments_lexer": "ipython3",
   "version": "3.7.4"
  }
 },
 "nbformat": 4,
 "nbformat_minor": 4
}
