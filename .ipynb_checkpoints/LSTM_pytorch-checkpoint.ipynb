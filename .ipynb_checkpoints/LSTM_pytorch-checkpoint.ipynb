{
 "cells": [
  {
   "cell_type": "code",
   "execution_count": 1,
   "metadata": {},
   "outputs": [],
   "source": [
    "from gen_data import *\n",
    "import torch\n",
    "import torch.nn as nn\n",
    "from torch.utils.data import TensorDataset, DataLoader\n",
    "import matplotlib.pyplot as plt\n",
    "from pdb import set_trace"
   ]
  },
  {
   "cell_type": "code",
   "execution_count": 93,
   "metadata": {},
   "outputs": [],
   "source": [
    "# Here we define our model as a class\n",
    "class RNN(nn.Module):\n",
    "\n",
    "    def __init__(self, input_dim, hidden_dim, batch_size, output_dim=1,\n",
    "                    num_layers=2):\n",
    "        super(RNN, self).__init__()\n",
    "        self.input_dim = input_dim\n",
    "        self.hidden_dim = hidden_dim\n",
    "        self.batch_size = batch_size\n",
    "        self.num_layers = num_layers\n",
    "        #self.hidden = self.init_hidden()\n",
    "        # Define the LSTM layer\n",
    "        #self.lstm = nn.LSTM(self.input_dim, self.hidden_dim, self.num_layers)\n",
    "        self.rnn = nn.RNN(self.input_dim, self.hidden_dim, self.num_layers)\n",
    "        # Define the output layer\n",
    "        self.linear = nn.Linear(self.hidden_dim, output_dim)\n",
    "\n",
    "    def init_hidden(self):\n",
    "        \n",
    "        return torch.zeros(self.num_layers, self.batch_size, self.hidden_dim)\n",
    "        \n",
    "                \n",
    "    def forward(self, x):\n",
    "        # Forward pass through LSTM layer\n",
    "        # shape of lstm_out: [input_size, batch_size, hidden_dim]\n",
    "        # shape of self.hidden: (h, c), where h and c both \n",
    "        # have shape (num_layers, batch_size, hidden_dim).\n",
    "        hidden = self.init_hidden()\n",
    "        \n",
    "        lstm_out, self.hidden = self.rnn(x,hidden)\n",
    "        # print(lstm_out.shape)\n",
    "        #print (self.lstm.weight_ih_l0)\n",
    "        \n",
    "        y_pred = self.linear(lstm_out.view(-1, self.hidden_dim))\n",
    "\n",
    "        return y_pred\n"
   ]
  },
  {
   "cell_type": "code",
   "execution_count": 94,
   "metadata": {},
   "outputs": [],
   "source": [
    "# Here we define our model as a class\n",
    "class LSTM(nn.Module):\n",
    "\n",
    "    def __init__(self, input_dim, hidden_dim, batch_size, output_dim=1,\n",
    "                    num_layers=2):\n",
    "        super(LSTM, self).__init__()\n",
    "        self.input_dim = input_dim\n",
    "        self.hidden_dim = hidden_dim\n",
    "        self.batch_size = batch_size\n",
    "        self.num_layers = num_layers\n",
    "        #self.hidden = self.init_hidden()\n",
    "        # Define the LSTM layer\n",
    "        self.lstm = nn.LSTM(self.input_dim, self.hidden_dim, self.num_layers)\n",
    "        #self.lstm = nn.RNN(self.input_dim, self.hidden_dim, self.num_layers)\n",
    "        # Define the output layer\n",
    "        self.linear = nn.Linear(self.hidden_dim, output_dim)\n",
    "\n",
    "    def init_hidden(self):\n",
    "        return (torch.zeros(self.num_layers, self.batch_size, self.hidden_dim),\n",
    "                torch.zeros(self.num_layers, self.batch_size, self.hidden_dim))\n",
    "        \n",
    "                \n",
    "    def forward(self, x):\n",
    "        # Forward pass through LSTM layer\n",
    "        # shape of lstm_out: [input_size, batch_size, hidden_dim]\n",
    "        # shape of self.hidden: (h, c), where h and c both \n",
    "        # have shape (num_layers, batch_size, hidden_dim).\n",
    "        hidden = self.init_hidden()\n",
    "        \n",
    "        lstm_out, self.hidden = self.lstm(x,hidden)\n",
    "        # print(lstm_out.shape)\n",
    "        #print(self.hidden)\n",
    "        \n",
    "        y_pred = self.linear(lstm_out.view(-1, self.hidden_dim))\n",
    "\n",
    "        return y_pred\n"
   ]
  },
  {
   "cell_type": "code",
   "execution_count": 95,
   "metadata": {},
   "outputs": [],
   "source": [
    "#####################\n",
    "# Generate data\n",
    "#####################\n",
    "num_train=80000\n",
    "num_test=10000\n",
    "task = Add_Task(6, 10, deterministic=True, tau_task=1)\n",
    "data = task.gen_data(num_train, num_test)\n",
    "X_train_a = data['train']['X']\n",
    "y_train_a = data['train']['Y']#[:,0]\n",
    "X_test_a = data['test']['X']\n",
    "y_test_a = data['train']['Y']#[:,0]\n",
    "\n",
    "# make training and test sets in torch\n",
    "X_train = torch.from_numpy(X_train_a).type(torch.Tensor)\n",
    "X_test = torch.from_numpy(X_test_a).type(torch.Tensor)\n",
    "y_train = torch.from_numpy(y_train_a).type(torch.Tensor)\n",
    "y_test = torch.from_numpy(y_test_a).type(torch.Tensor)\n"
   ]
  },
  {
   "cell_type": "code",
   "execution_count": 96,
   "metadata": {},
   "outputs": [
    {
     "data": {
      "text/plain": [
       "array([[0.5, 0.5],\n",
       "       [0.5, 0.5],\n",
       "       [1. , 0. ],\n",
       "       ...,\n",
       "       [0.5, 0.5],\n",
       "       [0.5, 0.5],\n",
       "       [0.5, 0.5]])"
      ]
     },
     "execution_count": 96,
     "metadata": {},
     "output_type": "execute_result"
    }
   ],
   "source": [
    "y_train_a"
   ]
  },
  {
   "cell_type": "code",
   "execution_count": 97,
   "metadata": {},
   "outputs": [],
   "source": [
    "#####################\n",
    "# Set parameters\n",
    "#####################\n",
    "# Data params\n",
    "\n",
    "# Network params\n",
    "input_size = 2\n",
    "batch_size = 1\n",
    "# size of hidden layers\n",
    "hidden_dim = 32\n",
    "output_dim = 2\n",
    "num_layers = 1\n",
    "dtype = torch.float\n",
    "\n",
    "X_train = X_train.view([-1, batch_size, input_size])\n",
    "X_test = X_test.view([-1, batch_size, input_size])\n"
   ]
  },
  {
   "cell_type": "code",
   "execution_count": 98,
   "metadata": {},
   "outputs": [],
   "source": [
    "def cross_entropy(pred, soft_targets):\n",
    "    logsoftmax = nn.LogSoftmax(dim=1)\n",
    "    return torch.mean(torch.sum(-soft_targets * logsoftmax(pred),1))"
   ]
  },
  {
   "cell_type": "code",
   "execution_count": 99,
   "metadata": {},
   "outputs": [],
   "source": [
    "\n",
    "model = RNN(input_size, hidden_dim, batch_size=batch_size, output_dim=output_dim, num_layers=num_layers)\n",
    "\n",
    "model.linear.weight.data = torch.from_numpy(np.random.normal(0, np.sqrt(1/(hidden_dim)), (output_dim, hidden_dim)).astype(np.float32))\n",
    "model.linear.bias.data = torch.from_numpy(np.zeros(output_dim).astype(np.float32))\n",
    "\n",
    "model.rnn._parameters['weight_ih_l0'] = torch.from_numpy(np.random.normal(0, np.sqrt(1/(input_size)), (hidden_dim, input_size)))\n",
    "model.rnn._parameters['weight_hh_l0'] = torch.from_numpy( np.linalg.qr(np.random.normal(0, 1, (hidden_dim, hidden_dim)))[0])\n",
    "model.rnn._parameters['bias_hh_l0'] =torch.from_numpy(np.zeros(hidden_dim))"
   ]
  },
  {
   "cell_type": "code",
   "execution_count": 101,
   "metadata": {},
   "outputs": [
    {
     "name": "stdout",
     "output_type": "stream",
     "text": [
      "Progress: 10.0% complete \n",
      "Average loss: 0.666591983512044 \n",
      "\n",
      "Progress: 20.0% complete \n",
      "Average loss: 0.6660896214842796 \n",
      "\n",
      "Progress: 30.0% complete \n",
      "Average loss: 0.6649903603643179 \n",
      "\n",
      "Progress: 40.0% complete \n",
      "Average loss: 0.6560185232013463 \n",
      "\n",
      "Progress: 50.0% complete \n",
      "Average loss: 0.6541279522329568 \n",
      "\n",
      "Progress: 60.0% complete \n",
      "Average loss: 0.6480639424920082 \n",
      "\n",
      "Progress: 70.0% complete \n",
      "Average loss: 0.6436458519846201 \n",
      "\n",
      "Progress: 80.0% complete \n",
      "Average loss: 0.6420902487635612 \n",
      "\n",
      "Progress: 90.0% complete \n",
      "Average loss: 0.634462827630341 \n",
      "\n",
      "Progress: 10.0% complete \n",
      "Average loss: 0.632664298042655 \n",
      "\n",
      "Progress: 20.0% complete \n",
      "Average loss: 0.6241408245638013 \n",
      "\n",
      "Progress: 30.0% complete \n",
      "Average loss: 0.6229861586168408 \n",
      "\n",
      "Progress: 40.0% complete \n",
      "Average loss: 0.6192106395587325 \n",
      "\n",
      "Progress: 50.0% complete \n",
      "Average loss: 0.6177431682869792 \n",
      "\n",
      "Progress: 60.0% complete \n",
      "Average loss: 0.6136436964198947 \n",
      "\n",
      "Progress: 70.0% complete \n",
      "Average loss: 0.6137582955136895 \n",
      "\n",
      "Progress: 80.0% complete \n",
      "Average loss: 0.6133573212102056 \n",
      "\n",
      "Progress: 90.0% complete \n",
      "Average loss: 0.611564921028912 \n",
      "\n",
      "Progress: 10.0% complete \n",
      "Average loss: 0.6130796929448843 \n",
      "\n",
      "Progress: 20.0% complete \n",
      "Average loss: 0.6099716779217124 \n",
      "\n",
      "Progress: 30.0% complete \n",
      "Average loss: 0.6125741628557444 \n",
      "\n",
      "Progress: 40.0% complete \n",
      "Average loss: 0.6088746734708548 \n",
      "\n",
      "Progress: 50.0% complete \n",
      "Average loss: 0.610981019102037 \n",
      "\n",
      "Progress: 60.0% complete \n",
      "Average loss: 0.6095716918632388 \n",
      "\n",
      "Progress: 70.0% complete \n",
      "Average loss: 0.6097536193206906 \n",
      "\n",
      "Progress: 80.0% complete \n",
      "Average loss: 0.6102229426056147 \n",
      "\n",
      "Progress: 90.0% complete \n",
      "Average loss: 0.6089396313950419 \n",
      "\n",
      "Progress: 10.0% complete \n",
      "Average loss: 0.6112577952444553 \n",
      "\n",
      "Progress: 20.0% complete \n",
      "Average loss: 0.6081971462070942 \n",
      "\n",
      "Progress: 30.0% complete \n",
      "Average loss: 0.6108995160833001 \n",
      "\n",
      "Progress: 40.0% complete \n",
      "Average loss: 0.6072708841413259 \n",
      "\n",
      "Progress: 50.0% complete \n",
      "Average loss: 0.6095033887028695 \n",
      "\n",
      "Progress: 60.0% complete \n",
      "Average loss: 0.6082567515969276 \n",
      "\n",
      "Progress: 70.0% complete \n",
      "Average loss: 0.6083915413171053 \n",
      "\n",
      "Progress: 80.0% complete \n",
      "Average loss: 0.6093871817737818 \n",
      "\n",
      "Progress: 90.0% complete \n",
      "Average loss: 0.6080300332605839 \n",
      "\n",
      "Progress: 10.0% complete \n",
      "Average loss: 0.6102124947309494 \n",
      "\n",
      "Progress: 20.0% complete \n",
      "Average loss: 0.6072673400118948 \n",
      "\n",
      "Progress: 30.0% complete \n",
      "Average loss: 0.6102882735431194 \n",
      "\n",
      "Progress: 40.0% complete \n",
      "Average loss: 0.6067891966924072 \n",
      "\n",
      "Progress: 50.0% complete \n",
      "Average loss: 0.6091107784584164 \n",
      "\n",
      "Progress: 60.0% complete \n",
      "Average loss: 0.6076857778429985 \n",
      "\n",
      "Progress: 70.0% complete \n",
      "Average loss: 0.6082301690429449 \n",
      "\n",
      "Progress: 80.0% complete \n",
      "Average loss: 0.6089528568834066 \n",
      "\n",
      "Progress: 90.0% complete \n",
      "Average loss: 0.6076274916157126 \n",
      "\n",
      "Progress: 10.0% complete \n",
      "Average loss: 0.6093866753578187 \n",
      "\n",
      "Progress: 20.0% complete \n",
      "Average loss: 0.6068239988386631 \n",
      "\n",
      "Progress: 30.0% complete \n",
      "Average loss: 0.6098915250971914 \n",
      "\n",
      "Progress: 40.0% complete \n",
      "Average loss: 0.6063133096694946 \n",
      "\n",
      "Progress: 50.0% complete \n",
      "Average loss: 0.6088925746828318 \n",
      "\n",
      "Progress: 60.0% complete \n",
      "Average loss: 0.6073139485344291 \n",
      "\n",
      "Progress: 70.0% complete \n",
      "Average loss: 0.6071735867857933 \n",
      "\n",
      "Progress: 80.0% complete \n",
      "Average loss: 0.6084063353389502 \n",
      "\n",
      "Progress: 90.0% complete \n",
      "Average loss: 0.6072913829609752 \n",
      "\n",
      "Progress: 10.0% complete \n",
      "Average loss: 0.6091100520640612 \n",
      "\n",
      "Progress: 20.0% complete \n",
      "Average loss: 0.6064979958534241 \n",
      "\n",
      "Progress: 30.0% complete \n",
      "Average loss: 0.6096059823781252 \n",
      "\n",
      "Progress: 40.0% complete \n",
      "Average loss: 0.6060639538988472 \n",
      "\n",
      "Progress: 50.0% complete \n",
      "Average loss: 0.6086357459798455 \n",
      "\n",
      "Progress: 60.0% complete \n",
      "Average loss: 0.6071200346201658 \n",
      "\n",
      "Progress: 70.0% complete \n",
      "Average loss: 0.6069762552529574 \n",
      "\n",
      "Progress: 80.0% complete \n",
      "Average loss: 0.6081268751621246 \n",
      "\n",
      "Progress: 90.0% complete \n",
      "Average loss: 0.6071696135029196 \n",
      "\n",
      "Progress: 10.0% complete \n",
      "Average loss: 0.6088706016913057 \n",
      "\n",
      "Progress: 20.0% complete \n",
      "Average loss: 0.6064129652455449 \n",
      "\n",
      "Progress: 30.0% complete \n",
      "Average loss: 0.6094967168197036 \n",
      "\n",
      "Progress: 40.0% complete \n",
      "Average loss: 0.6058961294591427 \n",
      "\n",
      "Progress: 50.0% complete \n",
      "Average loss: 0.6084691675752402 \n",
      "\n",
      "Progress: 60.0% complete \n",
      "Average loss: 0.6070354177802801 \n",
      "\n",
      "Progress: 70.0% complete \n",
      "Average loss: 0.6068300076574087 \n",
      "\n",
      "Progress: 80.0% complete \n",
      "Average loss: 0.6080944141745568 \n",
      "\n",
      "Progress: 90.0% complete \n",
      "Average loss: 0.6071071817353367 \n",
      "\n",
      "Progress: 10.0% complete \n",
      "Average loss: 0.6087639827281237 \n",
      "\n",
      "Progress: 20.0% complete \n",
      "Average loss: 0.6064004791155457 \n",
      "\n",
      "Progress: 30.0% complete \n",
      "Average loss: 0.6093646229431033 \n",
      "\n",
      "Progress: 40.0% complete \n",
      "Average loss: 0.6058009813353419 \n",
      "\n",
      "Progress: 50.0% complete \n",
      "Average loss: 0.6084803700447082 \n",
      "\n",
      "Progress: 60.0% complete \n",
      "Average loss: 0.6068976909294724 \n",
      "\n",
      "Progress: 70.0% complete \n",
      "Average loss: 0.6067718197405338 \n",
      "\n",
      "Progress: 80.0% complete \n",
      "Average loss: 0.6078860648721457 \n",
      "\n",
      "Progress: 90.0% complete \n",
      "Average loss: 0.6069632451981306 \n",
      "\n",
      "Progress: 10.0% complete \n",
      "Average loss: 0.6085542673617601 \n",
      "\n",
      "Progress: 20.0% complete \n",
      "Average loss: 0.6062597635388375 \n",
      "\n",
      "Progress: 30.0% complete \n",
      "Average loss: 0.6092750260606408 \n",
      "\n",
      "Progress: 40.0% complete \n",
      "Average loss: 0.6057204138115049 \n",
      "\n",
      "Progress: 50.0% complete \n",
      "Average loss: 0.6086749736219644 \n",
      "\n",
      "Progress: 60.0% complete \n",
      "Average loss: 0.6068486800789833 \n",
      "\n",
      "Progress: 70.0% complete \n",
      "Average loss: 0.6067413728684187 \n",
      "\n",
      "Progress: 80.0% complete \n",
      "Average loss: 0.6078040857613086 \n",
      "\n",
      "Progress: 90.0% complete \n",
      "Average loss: 0.6069177922606468 \n",
      "\n"
     ]
    }
   ],
   "source": [
    "#####################\n",
    "# Build model\n",
    "#####################\n",
    "\n",
    "#model = RNN(input_size, hidden_dim, batch_size=batch_size, output_dim=output_dim, num_layers=num_layers)\n",
    "\n",
    "model = LSTM(input_size, hidden_dim, batch_size=batch_size, output_dim=output_dim, num_layers=num_layers)\n",
    "num_epochs = 10\n",
    "learning_rate = 1\n",
    "T = 10\n",
    "#loss_fn = torch.nn.MSELoss()\n",
    "optimizer = torch.optim.SGD(model.parameters(), lr=learning_rate)\n",
    "rounds = num_train//T\n",
    "#####################\n",
    "# Train model\n",
    "#####################\n",
    "\n",
    "mons = []\n",
    "lstm_loss_list_2 = []\n",
    "model.hidden = model.init_hidden()\n",
    "for t in range(num_epochs):\n",
    "    \n",
    "    # Forward pass\n",
    "    for i in range(rounds):\n",
    "        #set_trace()\n",
    "        X_train_s = X_train[i*T:(i+1)*T]\n",
    "        y_train_s = y_train[i*T:(i+1)*T]\n",
    "        model.hidden = model.init_hidden()\n",
    "        y_pred = model(X_train_s)\n",
    "        loss = cross_entropy(y_pred, y_train_s)\n",
    "\n",
    "        # Zero out gradient, else they will accumulate between epochs\n",
    "        optimizer.zero_grad()\n",
    "        loss.backward()\n",
    "        # Update parameters\n",
    "        optimizer.step()\n",
    "        \n",
    "        mons.append(loss.item())\n",
    "        progress = np.round((i/rounds)*100, 2)\n",
    "\n",
    "        summary = '\\rProgress: {}% complete \\n'\n",
    "        \n",
    "        if i % 800 == 0 and i != 0:\n",
    "            average_loss = sum(mons[-800:])/800\n",
    "            lstm_loss_list_2.append(average_loss)\n",
    "            summary += 'Average loss: {} \\n'.format(average_loss)            \n",
    "            print(summary.format(progress))\n",
    "            \n",
    "\n"
   ]
  },
  {
   "cell_type": "code",
   "execution_count": 89,
   "metadata": {},
   "outputs": [
    {
     "data": {
      "image/png": "[encoded data removed]",
      "text/plain": [
       "<Figure size 432x288 with 1 Axes>"
      ]
     },
     "metadata": {
      "needs_background": "light"
     },
     "output_type": "display_data"
    }
   ],
   "source": [
    "#####################\n",
    "# Plot preds and performance\n",
    "#####################\n",
    "rnn_loss_list\n",
    "rnn_loss_list_2\n",
    "# lstm_loss_list\n",
    "# lstm_loss_list_2\n",
    "plt.plot(rnn_loss_list,label=\"rnn,lr = 0.001\")\n",
    "plt.plot(rnn_loss_list_2,label=\"rnn,lr = 0.01\")\n",
    "plt.plot(rnn_loss_list,label=\"lstm,lr = 0.1\")\n",
    "plt.plot(rnn_loss_list_2,label=\"lstm,lr = 1\")\n",
    "\n",
    "plt.legend()\n",
    "plt.show()\n"
   ]
  },
  {
   "cell_type": "code",
   "execution_count": 102,
   "metadata": {},
   "outputs": [
    {
     "data": {
      "image/png": "[encoded data removed]",
      "text/plain": [
       "<Figure size 432x288 with 1 Axes>"
      ]
     },
     "metadata": {
      "needs_background": "light"
     },
     "output_type": "display_data"
    }
   ],
   "source": [
    "plt.plot(lstm_loss_list,label=\"lstm,lr = 0.1\")\n",
    "plt.plot(lstm_loss_list_2,label=\"lstm,lr = 1\")\n",
    "\n",
    "plt.legend()\n",
    "plt.show()\n"
   ]
  },
  {
   "cell_type": "code",
   "execution_count": 103,
   "metadata": {},
   "outputs": [
    {
     "data": {
      "text/plain": [
       "[<matplotlib.lines.Line2D at 0x7fb82dbb4210>]"
      ]
     },
     "execution_count": 103,
     "metadata": {},
     "output_type": "execute_result"
    },
    {
     "data": {
      "image/png": "[encoded data removed]",
      "text/plain": [
       "<Figure size 432x288 with 1 Axes>"
      ]
     },
     "metadata": {
      "needs_background": "light"
     },
     "output_type": "display_data"
    }
   ],
   "source": [
    "plt.plot(mons)"
   ]
  },
  {
   "cell_type": "code",
   "execution_count": 104,
   "metadata": {},
   "outputs": [
    {
     "data": {
      "text/plain": [
       "0.6819950342178345"
      ]
     },
     "execution_count": 104,
     "metadata": {},
     "output_type": "execute_result"
    }
   ],
   "source": []
  },
  {
   "cell_type": "code",
   "execution_count": 2,
   "metadata": {},
   "outputs": [],
   "source": [
    "from lstm_network import LSTM\n",
    "from functions import *\n",
    "\n",
    "task = Add_Task(6, 10, deterministic=True, tau_task=1)\n",
    "data = task.gen_data(30, 10000) #10000000\n",
    "\n",
    "\n",
    "n_in = task.n_in\n",
    "n_h = 16\n",
    "n_out = task.n_out\n",
    "n_h_hat = n_h + n_in\n",
    "n_t = 2 * n_h\n",
    "\n",
    "W_f  = np.random.normal(0, np.sqrt(1/(n_h_hat)), (n_h, n_h_hat))\n",
    "W_i  = np.random.normal(0, np.sqrt(1/(n_h_hat)), (n_h, n_h_hat))\n",
    "W_a  = np.random.normal(0, np.sqrt(1/(n_h_hat)), (n_h, n_h_hat))\n",
    "W_o  = np.random.normal(0, np.sqrt(1/(n_h_hat)), (n_h, n_h_hat))\n",
    "b_f = np.zeros(n_h)\n",
    "b_i = np.zeros(n_h)\n",
    "b_a = np.zeros(n_h)\n",
    "b_o = np.zeros(n_h)\n",
    "W_out = np.random.normal(0, np.sqrt(1/(n_t)), (n_out, n_t))\n",
    "b_out = np.zeros(n_out)\n",
    "\n",
    "\n",
    "my_lstm = LSTM(W_f, W_i, W_a, W_o, W_out, \n",
    "            b_f, b_i, b_a, b_o, b_out,\n",
    "            output=softmax,\n",
    "            loss=softmax_cross_entropy)\n"
   ]
  },
  {
   "cell_type": "code",
   "execution_count": 10,
   "metadata": {},
   "outputs": [],
   "source": [
    "lstm = nn.LSTM(2, 16, 1)"
   ]
  },
  {
   "cell_type": "code",
   "execution_count": 11,
   "metadata": {},
   "outputs": [],
   "source": [
    "W_i = torch.cat([lstm._parameters['weight_ih_l0'][:16],lstm._parameters['weight_hh_l0'][:16]],1).cpu().detach().numpy()\n",
    "W_f = torch.cat([lstm._parameters['weight_ih_l0'][16:32],lstm._parameters['weight_hh_l0'][16:32]],1).cpu().detach().numpy()\n",
    "W_a = torch.cat([lstm._parameters['weight_ih_l0'][32:48],lstm._parameters['weight_hh_l0'][32:48]],1).cpu().detach().numpy()\n",
    "W_o = torch.cat([lstm._parameters['weight_ih_l0'][48:64],lstm._parameters['weight_hh_l0'][48:64]],1).cpu().detach().numpy()\n",
    "\n",
    "b_f = np.zeros(n_h)\n",
    "b_i = np.zeros(n_h)\n",
    "b_a = np.zeros(n_h)\n",
    "b_o = np.zeros(n_h)\n",
    "\n",
    "\n",
    "lstm._parameters['bias_ih_l0']=torch.zeros(64)\n",
    "lstm._parameters['bias_hh_l0']=torch.zeros(64)"
   ]
  },
  {
   "cell_type": "code",
   "execution_count": 12,
   "metadata": {},
   "outputs": [],
   "source": [
    "my_lstm = LSTM(W_f, W_i, W_a, W_o, W_out, \n",
    "            b_f, b_i, b_a, b_o, b_out,\n",
    "            output=softmax,\n",
    "            loss=softmax_cross_entropy)"
   ]
  },
  {
   "cell_type": "code",
   "execution_count": 13,
   "metadata": {},
   "outputs": [],
   "source": [
    "hidden = (torch.zeros(1, 1, 16),\n",
    "                torch.zeros(1, 1, 16))\n",
    "\n",
    "X_train = torch.from_numpy(data['train']['X'][0]).type(torch.Tensor)\n",
    "X_train = X_train.view([-1, 1, 2])\n",
    "\n",
    "lstm_out= lstm(X_train,hidden)\n"
   ]
  },
  {
   "cell_type": "code",
   "execution_count": 3,
   "metadata": {},
   "outputs": [],
   "source": [
    "my_out = my_lstm.next_state(data['train']['X'][0],h=np.zeros(16),c=np.zeros(16),update=False)"
   ]
  },
  {
   "cell_type": "code",
   "execution_count": 45,
   "metadata": {},
   "outputs": [
    {
     "data": {
      "text/plain": [
       "array([ 0.10709971,  0.15956354,  0.04318108, -0.02641258, -0.01841896,\n",
       "       -0.04292943,  0.11215756, -0.09256548,  0.25709211, -0.04909238,\n",
       "        0.05638075, -0.09317969,  0.08566954,  0.12128232, -0.04772455,\n",
       "        0.10131517])"
      ]
     },
     "execution_count": 45,
     "metadata": {},
     "output_type": "execute_result"
    }
   ],
   "source": []
  },
  {
   "cell_type": "code",
   "execution_count": 16,
   "metadata": {},
   "outputs": [
    {
     "data": {
      "text/plain": [
       "(tensor([[[ 0.0866,  0.0148,  0.1522, -0.0563,  0.0392,  0.0636, -0.0145,\n",
       "            0.0885, -0.0555, -0.0072,  0.0590,  0.0288, -0.0787,  0.0550,\n",
       "            0.0494,  0.1714]]], grad_fn=<StackBackward>),\n",
       " (tensor([[[ 0.0866,  0.0148,  0.1522, -0.0563,  0.0392,  0.0636, -0.0145,\n",
       "             0.0885, -0.0555, -0.0072,  0.0590,  0.0288, -0.0787,  0.0550,\n",
       "             0.0494,  0.1714]]], grad_fn=<StackBackward>),\n",
       "  tensor([[[ 0.1731,  0.0291,  0.3137, -0.1126,  0.0936,  0.1224, -0.0316,\n",
       "             0.1978, -0.1061, -0.0168,  0.1338,  0.0665, -0.2019,  0.0983,\n",
       "             0.1011,  0.3554]]], grad_fn=<StackBackward>)))"
      ]
     },
     "execution_count": 16,
     "metadata": {},
     "output_type": "execute_result"
    }
   ],
   "source": [
    "lstm_out"
   ]
  },
  {
   "cell_type": "code",
   "execution_count": 4,
   "metadata": {},
   "outputs": [],
   "source": [
    "def sigmoid(x):\n",
    "    return 1 / (1 + np.exp(-x))\n",
    "\n",
    "def softmax(x):\n",
    "    e_x = np.exp(x - np.max(x)) # max(x) subtracted for numerical stability\n",
    "    return e_x / np.sum(e_x)\n",
    "\n",
    "\n",
    "def forward_step(x, h_prev, c_prev):\n",
    "    z = np.append(h_prev, x, axis=0)#np.row_stack((h_prev, x))\n",
    "\n",
    "    f = sigmoid(np.dot(W_f, z) + b_f)\n",
    "    i = sigmoid(np.dot(W_i, z) + b_i)\n",
    "    c_bar = np.tanh(np.dot(W_a, z) + b_a)\n",
    "\n",
    "    c = f * c_prev + i * c_bar\n",
    "    o = sigmoid(np.dot(W_o, z) + b_o)\n",
    "    h = o * np.tanh(c)\n",
    "\n",
    "#     v = np.dot(W_out, h) + b_out\n",
    "#     y_hat = softmax(v)\n",
    "    return h, c\n",
    "\n"
   ]
  },
  {
   "cell_type": "code",
   "execution_count": 5,
   "metadata": {},
   "outputs": [
    {
     "data": {
      "text/plain": [
       "(array([ 0.01380777,  0.03348634,  0.01373534,  0.00745883, -0.07164816,\n",
       "         0.01037488, -0.06974243,  0.06142398,  0.04629351, -0.0427742 ,\n",
       "         0.10782359,  0.12576076, -0.07926801, -0.02103119,  0.03654132,\n",
       "         0.0369412 ]),\n",
       " array([ 0.04015545,  0.07005828,  0.02911165,  0.01191787, -0.17017264,\n",
       "         0.02690068, -0.11094298,  0.1164085 ,  0.08744963, -0.07405329,\n",
       "         0.20544801,  0.25344587, -0.16383056, -0.04744368,  0.08142878,\n",
       "         0.07641289]))"
      ]
     },
     "execution_count": 5,
     "metadata": {},
     "output_type": "execute_result"
    }
   ],
   "source": [
    "forward_step(x=data['train']['X'][0],h_prev=np.zeros(16),c_prev=np.zeros(16))"
   ]
  },
  {
   "cell_type": "code",
   "execution_count": 6,
   "metadata": {},
   "outputs": [
    {
     "data": {
      "text/plain": [
       "array([ 0.04015545,  0.07005828,  0.02911165,  0.01191787, -0.17017264,\n",
       "        0.02690068, -0.11094298,  0.1164085 ,  0.08744963, -0.07405329,\n",
       "        0.20544801,  0.25344587, -0.16383056, -0.04744368,  0.08142878,\n",
       "        0.07641289])"
      ]
     },
     "execution_count": 6,
     "metadata": {},
     "output_type": "execute_result"
    }
   ],
   "source": [
    "my_out[:16]"
   ]
  },
  {
   "cell_type": "code",
   "execution_count": 7,
   "metadata": {},
   "outputs": [
    {
     "data": {
      "text/plain": [
       "array([ 0.01380777,  0.03348634,  0.01373534,  0.00745883, -0.07164816,\n",
       "        0.01037488, -0.06974243,  0.06142398,  0.04629351, -0.0427742 ,\n",
       "        0.10782359,  0.12576076, -0.07926801, -0.02103119,  0.03654132,\n",
       "        0.0369412 ])"
      ]
     },
     "execution_count": 7,
     "metadata": {},
     "output_type": "execute_result"
    }
   ],
   "source": [
    "my_out[16:32]"
   ]
  },
  {
   "cell_type": "code",
   "execution_count": null,
   "metadata": {},
   "outputs": [],
   "source": []
  }
 ],
 "metadata": {
  "kernelspec": {
   "display_name": "Python 3",
   "language": "python",
   "name": "python3"
  },
  "language_info": {
   "codemirror_mode": {
    "name": "ipython",
    "version": 3
   },
   "file_extension": ".py",
   "mimetype": "text/x-python",
   "name": "python",
   "nbconvert_exporter": "python",
   "pygments_lexer": "ipython3",
   "version": "3.7.4"
  }
 },
 "nbformat": 4,
 "nbformat_minor": 4
}
