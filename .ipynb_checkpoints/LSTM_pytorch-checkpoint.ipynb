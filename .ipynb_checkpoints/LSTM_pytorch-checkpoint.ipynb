{
 "cells": [
  {
   "cell_type": "code",
   "execution_count": 1,
   "metadata": {},
   "outputs": [],
   "source": [
    "from gen_data import *\n",
    "import torch\n",
    "import torch.nn as nn\n",
    "from torch.utils.data import TensorDataset, DataLoader\n",
    "import matplotlib.pyplot as plt"
   ]
  },
  {
   "cell_type": "code",
   "execution_count": 2,
   "metadata": {},
   "outputs": [],
   "source": [
    "# Here we define our model as a class\n",
    "class RNN(nn.Module):\n",
    "\n",
    "    def __init__(self, input_dim, hidden_dim, batch_size, output_dim=1,\n",
    "                    num_layers=2):\n",
    "        super(RNN, self).__init__()\n",
    "        self.input_dim = input_dim\n",
    "        self.hidden_dim = hidden_dim\n",
    "        self.batch_size = batch_size\n",
    "        self.num_layers = num_layers\n",
    "\n",
    "        # Define the LSTM layer\n",
    "        #self.lstm = nn.LSTM(self.input_dim, self.hidden_dim, self.num_layers)\n",
    "        self.rnn = nn.RNN(self.input_dim, self.hidden_dim, self.num_layers)\n",
    "        # Define the output layer\n",
    "        self.linear = nn.Linear(self.hidden_dim, output_dim)\n",
    "\n",
    "    def init_hidden(self):\n",
    "        return torch.zeros(self.num_layers, self.batch_size, self.hidden_dim)\n",
    "        \n",
    "                \n",
    "    def forward(self, x):\n",
    "        # Forward pass through LSTM layer\n",
    "        # shape of lstm_out: [input_size, batch_size, hidden_dim]\n",
    "        # shape of self.hidden: (h, c), where h and c both \n",
    "        # have shape (num_layers, batch_size, hidden_dim).\n",
    "        hidden = self.init_hidden()\n",
    "        \n",
    "        lstm_out, hidden = self.rnn(x, hidden)\n",
    "        # print(lstm_out.shape)\n",
    "        #print (self.lstm.weight_ih_l0)\n",
    "        \n",
    "        y_pred = self.linear(lstm_out.view(-1, self.hidden_dim))\n",
    "\n",
    "        return y_pred\n"
   ]
  },
  {
   "cell_type": "code",
   "execution_count": 9,
   "metadata": {},
   "outputs": [],
   "source": [
    "# Here we define our model as a class\n",
    "class LSTM(nn.Module):\n",
    "\n",
    "    def __init__(self, input_dim, hidden_dim, batch_size, output_dim=1,\n",
    "                    num_layers=2):\n",
    "        super(LSTM, self).__init__()\n",
    "        self.input_dim = input_dim\n",
    "        self.hidden_dim = hidden_dim\n",
    "        self.batch_size = batch_size\n",
    "        self.num_layers = num_layers\n",
    "        self.hidden = self.init_hidden()\n",
    "        # Define the LSTM layer\n",
    "        self.lstm = nn.LSTM(self.input_dim, self.hidden_dim, self.num_layers)\n",
    "        #self.lstm = nn.RNN(self.input_dim, self.hidden_dim, self.num_layers)\n",
    "        # Define the output layer\n",
    "        self.linear = nn.Linear(self.hidden_dim, output_dim)\n",
    "\n",
    "    def init_hidden(self):\n",
    "        return (torch.zeros(self.num_layers, self.batch_size, self.hidden_dim),\n",
    "                torch.zeros(self.num_layers, self.batch_size, self.hidden_dim))\n",
    "        \n",
    "                \n",
    "    def forward(self, x):\n",
    "        # Forward pass through LSTM layer\n",
    "        # shape of lstm_out: [input_size, batch_size, hidden_dim]\n",
    "        # shape of self.hidden: (h, c), where h and c both \n",
    "        # have shape (num_layers, batch_size, hidden_dim).\n",
    "        #hidden = self.init_hidden()\n",
    "        \n",
    "        lstm_out, self.hidden = self.lstm(x,self.hidden)\n",
    "        # print(lstm_out.shape)\n",
    "        #print (self.lstm.weight_ih_l0)\n",
    "        \n",
    "        y_pred = self.linear(lstm_out.view(-1, self.hidden_dim))\n",
    "\n",
    "        return y_pred\n"
   ]
  },
  {
   "cell_type": "code",
   "execution_count": 4,
   "metadata": {},
   "outputs": [],
   "source": [
    "#####################\n",
    "# Generate data\n",
    "#####################\n",
    "num_train=20000\n",
    "num_test=10000\n",
    "task = Add_Task(6, 10, deterministic=True, tau_task=1)\n",
    "data = task.gen_data(num_train, num_test)\n",
    "X_train_a = data['train']['X']\n",
    "y_train_a = data['train']['Y']#[:,0]\n",
    "X_test_a = data['test']['X']\n",
    "y_test_a = data['train']['Y']#[:,0]\n",
    "\n",
    "# make training and test sets in torch\n",
    "X_train = torch.from_numpy(X_train_a).type(torch.Tensor)\n",
    "X_test = torch.from_numpy(X_test_a).type(torch.Tensor)\n",
    "y_train = torch.from_numpy(y_train_a).type(torch.Tensor)\n",
    "y_test = torch.from_numpy(y_test_a).type(torch.Tensor)\n"
   ]
  },
  {
   "cell_type": "code",
   "execution_count": 49,
   "metadata": {},
   "outputs": [
    {
     "data": {
      "text/plain": [
       "array([[0.25, 0.75],\n",
       "       [0.25, 0.75],\n",
       "       [0.5 , 0.5 ],\n",
       "       ...,\n",
       "       [1.  , 0.  ],\n",
       "       [0.5 , 0.5 ],\n",
       "       [0.25, 0.75]])"
      ]
     },
     "execution_count": 49,
     "metadata": {},
     "output_type": "execute_result"
    }
   ],
   "source": [
    "y_train_a"
   ]
  },
  {
   "cell_type": "code",
   "execution_count": 5,
   "metadata": {},
   "outputs": [],
   "source": [
    "#####################\n",
    "# Set parameters\n",
    "#####################\n",
    "# Data params\n",
    "\n",
    "# Network params\n",
    "input_size = 2\n",
    "batch_size = 1\n",
    "# size of hidden layers\n",
    "hidden_dim = 32\n",
    "output_dim = 2\n",
    "num_layers = 1\n",
    "dtype = torch.float\n",
    "\n",
    "X_train = X_train.view([-1, batch_size, input_size])\n",
    "X_test = X_test.view([-1, batch_size, input_size])\n"
   ]
  },
  {
   "cell_type": "code",
   "execution_count": 6,
   "metadata": {},
   "outputs": [],
   "source": [
    "def cross_entropy(pred, soft_targets):\n",
    "    logsoftmax = nn.LogSoftmax(dim=1)\n",
    "    return torch.mean(torch.sum(-soft_targets * logsoftmax(pred),1))"
   ]
  },
  {
   "cell_type": "code",
   "execution_count": 7,
   "metadata": {},
   "outputs": [],
   "source": [
    "\n",
    "model = RNN(input_size, hidden_dim, batch_size=batch_size, output_dim=output_dim, num_layers=num_layers)\n",
    "\n",
    "model.linear.weight.data = torch.from_numpy(np.random.normal(0, np.sqrt(1/(hidden_dim)), (output_dim, hidden_dim)).astype(np.float32))\n",
    "model.linear.bias.data = torch.from_numpy(np.zeros(output_dim).astype(np.float32))\n",
    "\n",
    "model.rnn._parameters['weight_ih_l0'] = torch.from_numpy(np.random.normal(0, np.sqrt(1/(input_size)), (hidden_dim, input_size)))\n",
    "model.rnn._parameters['weight_hh_l0'] = torch.from_numpy( np.linalg.qr(np.random.normal(0, 1, (hidden_dim, hidden_dim)))[0])\n",
    "model.rnn._parameters['bias_hh_l0'] =torch.from_numpy(np.zeros(hidden_dim))"
   ]
  },
  {
   "cell_type": "code",
   "execution_count": 8,
   "metadata": {},
   "outputs": [
    {
     "name": "stdout",
     "output_type": "stream",
     "text": [
      "Progress: 10.0% complete \n",
      "Average loss: 0.7181723096966743 \n",
      "\n",
      "Progress: 20.0% complete \n",
      "Average loss: 0.6932893627882004 \n",
      "\n",
      "Progress: 30.0% complete \n",
      "Average loss: 0.6810093504190445 \n",
      "\n",
      "Progress: 40.0% complete \n",
      "Average loss: 0.6714272958040237 \n",
      "\n",
      "Progress: 50.0% complete \n",
      "Average loss: 0.6705834865570068 \n",
      "\n",
      "Progress: 60.0% complete \n",
      "Average loss: 0.6667311415076256 \n",
      "\n",
      "Progress: 70.0% complete \n",
      "Average loss: 0.6660183882713318 \n",
      "\n",
      "Progress: 80.0% complete \n",
      "Average loss: 0.6641325283050538 \n",
      "\n",
      "Progress: 90.0% complete \n",
      "Average loss: 0.6624645435810089 \n",
      "\n"
     ]
    }
   ],
   "source": [
    "#####################\n",
    "# Build model\n",
    "#####################\n",
    "\n",
    "#model = RNN(input_size, hidden_dim, batch_size=batch_size, output_dim=output_dim, num_layers=num_layers)\n",
    "\n",
    "#model = LSTM(input_size, hidden_dim, batch_size=batch_size, output_dim=output_dim, num_layers=num_layers)\n",
    "num_epochs = 1\n",
    "learning_rate = 0.001\n",
    "T = 10\n",
    "#loss_fn = torch.nn.MSELoss()\n",
    "optimizer = torch.optim.SGD(model.parameters(), lr=learning_rate)\n",
    "rounds = num_train//T\n",
    "#####################\n",
    "# Train model\n",
    "#####################\n",
    "\n",
    "mons = []\n",
    "\n",
    "for t in range(num_epochs):\n",
    "    \n",
    "    #model.hidden = model.init_hidden()\n",
    "    # Forward pass\n",
    "    for i in range(rounds):\n",
    "        X_train_s = X_train[i*T:(i+1)*T]\n",
    "        y_train_s = y_train[i*T:(i+1)*T]\n",
    "        y_pred = model(X_train_s)\n",
    "        loss = cross_entropy(y_pred, y_train_s)\n",
    "\n",
    "        # Zero out gradient, else they will accumulate between epochs\n",
    "        optimizer.zero_grad()\n",
    "        loss.backward()\n",
    "        # Update parameters\n",
    "        optimizer.step()\n",
    "        \n",
    "        mons.append(loss.item())\n",
    "        progress = np.round((i/rounds)*100, 2)\n",
    "\n",
    "        summary = '\\rProgress: {}% complete \\n'\n",
    "        \n",
    "        if i % 200 == 0 and i != 0:\n",
    "            summary += 'Average loss: {} \\n'.format(sum(mons[-200:])/200)            \n",
    "            print(summary.format(progress))\n",
    "            \n",
    "\n"
   ]
  },
  {
   "cell_type": "code",
   "execution_count": null,
   "metadata": {},
   "outputs": [],
   "source": [
    "#####################\n",
    "# Plot preds and performance\n",
    "#####################\n",
    "softmax = nn.Softmax(dim=1)\n",
    "y_prob = softmax(y_pred)\n",
    "plt.plot(y_prob.detach().numpy()[:100,0],label=\"Preds\")\n",
    "plt.plot(y_train.detach().numpy()[:100,0],label=\"Data\")\n",
    "plt.legend()\n",
    "plt.show()\n",
    "\n",
    "plt.plot(hist, label=\"Training loss\")\n",
    "plt.legend()\n",
    "plt.show()\n"
   ]
  },
  {
   "cell_type": "code",
   "execution_count": null,
   "metadata": {},
   "outputs": [],
   "source": [
    "net = nn.LSTM(100, 100) #Assume only one layer\n",
    "w_ii, w_if, w_ic, w_io = net.weight_ih_l0.chunk(4, 0)\n",
    "w_hi, w_hf, w_hc, w_ho = net.weight_hh_l0.chunk(4, 0)\n"
   ]
  },
  {
   "cell_type": "code",
   "execution_count": null,
   "metadata": {},
   "outputs": [],
   "source": []
  }
 ],
 "metadata": {
  "kernelspec": {
   "display_name": "Python 3",
   "language": "python",
   "name": "python3"
  },
  "language_info": {
   "codemirror_mode": {
    "name": "ipython",
    "version": 3
   },
   "file_extension": ".py",
   "mimetype": "text/x-python",
   "name": "python",
   "nbconvert_exporter": "python",
   "pygments_lexer": "ipython3",
   "version": "3.7.4"
  }
 },
 "nbformat": 4,
 "nbformat_minor": 4
}
