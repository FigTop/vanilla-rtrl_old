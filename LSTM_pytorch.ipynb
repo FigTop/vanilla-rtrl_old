{
 "cells": [
  {
   "cell_type": "code",
   "execution_count": 1,
   "metadata": {},
   "outputs": [],
   "source": [
    "from gen_data import *\n",
    "import torch\n",
    "import torch.nn as nn\n",
    "from torch.utils.data import TensorDataset, DataLoader\n",
    "import matplotlib.pyplot as plt\n",
    "from pdb import set_trace"
   ]
  },
  {
   "cell_type": "code",
   "execution_count": 10,
   "metadata": {},
   "outputs": [],
   "source": [
    "# Here we define our model as a class\n",
    "class RNN(nn.Module):\n",
    "\n",
    "    def __init__(self, input_dim, hidden_dim, batch_size, output_dim=1,\n",
    "                    num_layers=2):\n",
    "        super(RNN, self).__init__()\n",
    "        self.input_dim = input_dim\n",
    "        self.hidden_dim = hidden_dim\n",
    "        self.batch_size = batch_size\n",
    "        self.num_layers = num_layers\n",
    "        self.hidden = self.init_hidden()\n",
    "        # Define the LSTM layer\n",
    "        #self.lstm = nn.LSTM(self.input_dim, self.hidden_dim, self.num_layers)\n",
    "        self.rnn = nn.RNN(self.input_dim, self.hidden_dim, self.num_layers)\n",
    "        # Define the output layer\n",
    "        self.linear = nn.Linear(self.hidden_dim, output_dim)\n",
    "\n",
    "    def init_hidden(self):\n",
    "        return torch.zeros(self.num_layers, self.batch_size, self.hidden_dim)\n",
    "        \n",
    "                \n",
    "    def forward(self, x):\n",
    "        # Forward pass through LSTM layer\n",
    "        # shape of lstm_out: [input_size, batch_size, hidden_dim]\n",
    "        # shape of self.hidden: (h, c), where h and c both \n",
    "        # have shape (num_layers, batch_size, hidden_dim).\n",
    "        \n",
    "        hidden = torch.from_numpy(self.hidden.data.numpy())\n",
    "        \n",
    "        lstm_out, self.hidden = self.rnn(x, self.hidden)\n",
    "        # print(lstm_out.shape)\n",
    "        #print (self.lstm.weight_ih_l0)\n",
    "        \n",
    "        y_pred = self.linear(lstm_out.view(-1, self.hidden_dim))\n",
    "\n",
    "        return y_pred\n"
   ]
  },
  {
   "cell_type": "code",
   "execution_count": 11,
   "metadata": {},
   "outputs": [],
   "source": [
    "# Here we define our model as a class\n",
    "class LSTM(nn.Module):\n",
    "\n",
    "    def __init__(self, input_dim, hidden_dim, batch_size, output_dim=1,\n",
    "                    num_layers=2):\n",
    "        super(LSTM, self).__init__()\n",
    "        self.input_dim = input_dim\n",
    "        self.hidden_dim = hidden_dim\n",
    "        self.batch_size = batch_size\n",
    "        self.num_layers = num_layers\n",
    "        self.hidden = self.init_hidden()\n",
    "        # Define the LSTM layer\n",
    "        self.lstm = nn.LSTM(self.input_dim, self.hidden_dim, self.num_layers)\n",
    "        #self.lstm = nn.RNN(self.input_dim, self.hidden_dim, self.num_layers)\n",
    "        # Define the output layer\n",
    "        self.linear = nn.Linear(self.hidden_dim, output_dim)\n",
    "\n",
    "    def init_hidden(self):\n",
    "        return (torch.zeros(self.num_layers, self.batch_size, self.hidden_dim),\n",
    "                torch.zeros(self.num_layers, self.batch_size, self.hidden_dim))\n",
    "        \n",
    "                \n",
    "    def forward(self, x):\n",
    "        # Forward pass through LSTM layer\n",
    "        # shape of lstm_out: [input_size, batch_size, hidden_dim]\n",
    "        # shape of self.hidden: (h, c), where h and c both \n",
    "        # have shape (num_layers, batch_size, hidden_dim).\n",
    "        #hidden = self.init_hidden()\n",
    "        \n",
    "        lstm_out, self.hidden = self.lstm(x,self.hidden)\n",
    "        # print(lstm_out.shape)\n",
    "        #print (self.lstm.weight_ih_l0)\n",
    "        \n",
    "        y_pred = self.linear(lstm_out.view(-1, self.hidden_dim))\n",
    "\n",
    "        return y_pred\n"
   ]
  },
  {
   "cell_type": "code",
   "execution_count": 12,
   "metadata": {},
   "outputs": [],
   "source": [
    "#####################\n",
    "# Generate data\n",
    "#####################\n",
    "num_train=20000\n",
    "num_test=10000\n",
    "task = Add_Task(6, 10, deterministic=True, tau_task=1)\n",
    "data = task.gen_data(num_train, num_test)\n",
    "X_train_a = data['train']['X']\n",
    "y_train_a = data['train']['Y']#[:,0]\n",
    "X_test_a = data['test']['X']\n",
    "y_test_a = data['train']['Y']#[:,0]\n",
    "\n",
    "# make training and test sets in torch\n",
    "X_train = torch.from_numpy(X_train_a).type(torch.Tensor)\n",
    "X_test = torch.from_numpy(X_test_a).type(torch.Tensor)\n",
    "y_train = torch.from_numpy(y_train_a).type(torch.Tensor)\n",
    "y_test = torch.from_numpy(y_test_a).type(torch.Tensor)\n"
   ]
  },
  {
   "cell_type": "code",
   "execution_count": 13,
   "metadata": {},
   "outputs": [
    {
     "data": {
      "text/plain": [
       "array([[0.5 , 0.5 ],\n",
       "       [0.75, 0.25],\n",
       "       [1.  , 0.  ],\n",
       "       ...,\n",
       "       [1.  , 0.  ],\n",
       "       [0.5 , 0.5 ],\n",
       "       [0.25, 0.75]])"
      ]
     },
     "execution_count": 13,
     "metadata": {},
     "output_type": "execute_result"
    }
   ],
   "source": [
    "y_train_a"
   ]
  },
  {
   "cell_type": "code",
   "execution_count": 14,
   "metadata": {},
   "outputs": [],
   "source": [
    "#####################\n",
    "# Set parameters\n",
    "#####################\n",
    "# Data params\n",
    "\n",
    "# Network params\n",
    "input_size = 2\n",
    "batch_size = 1\n",
    "# size of hidden layers\n",
    "hidden_dim = 32\n",
    "output_dim = 2\n",
    "num_layers = 1\n",
    "dtype = torch.float\n",
    "\n",
    "X_train = X_train.view([-1, batch_size, input_size])\n",
    "X_test = X_test.view([-1, batch_size, input_size])\n"
   ]
  },
  {
   "cell_type": "code",
   "execution_count": 15,
   "metadata": {},
   "outputs": [],
   "source": [
    "def cross_entropy(pred, soft_targets):\n",
    "    logsoftmax = nn.LogSoftmax(dim=1)\n",
    "    return torch.mean(torch.sum(-soft_targets * logsoftmax(pred),1))"
   ]
  },
  {
   "cell_type": "code",
   "execution_count": 16,
   "metadata": {},
   "outputs": [],
   "source": [
    "\n",
    "model = RNN(input_size, hidden_dim, batch_size=batch_size, output_dim=output_dim, num_layers=num_layers)\n",
    "\n",
    "model.linear.weight.data = torch.from_numpy(np.random.normal(0, np.sqrt(1/(hidden_dim)), (output_dim, hidden_dim)).astype(np.float32))\n",
    "model.linear.bias.data = torch.from_numpy(np.zeros(output_dim).astype(np.float32))\n",
    "\n",
    "model.rnn._parameters['weight_ih_l0'] = torch.from_numpy(np.random.normal(0, np.sqrt(1/(input_size)), (hidden_dim, input_size)))\n",
    "model.rnn._parameters['weight_hh_l0'] = torch.from_numpy( np.linalg.qr(np.random.normal(0, 1, (hidden_dim, hidden_dim)))[0])\n",
    "model.rnn._parameters['bias_hh_l0'] =torch.from_numpy(np.zeros(hidden_dim))"
   ]
  },
  {
   "cell_type": "code",
   "execution_count": 20,
   "metadata": {},
   "outputs": [
    {
     "ename": "RuntimeError",
     "evalue": "Trying to backward through the graph a second time, but the buffers have already been freed. Specify retain_graph=True when calling backward the first time.",
     "output_type": "error",
     "traceback": [
      "\u001b[0;31m---------------------------------------------------------------------------\u001b[0m",
      "\u001b[0;31mRuntimeError\u001b[0m                              Traceback (most recent call last)",
      "\u001b[0;32m<ipython-input-20-17d0a797e31a>\u001b[0m in \u001b[0;36m<module>\u001b[0;34m\u001b[0m\n\u001b[1;32m     31\u001b[0m         \u001b[0;31m# Zero out gradient, else they will accumulate between epochs\u001b[0m\u001b[0;34m\u001b[0m\u001b[0;34m\u001b[0m\u001b[0;34m\u001b[0m\u001b[0m\n\u001b[1;32m     32\u001b[0m         \u001b[0moptimizer\u001b[0m\u001b[0;34m.\u001b[0m\u001b[0mzero_grad\u001b[0m\u001b[0;34m(\u001b[0m\u001b[0;34m)\u001b[0m\u001b[0;34m\u001b[0m\u001b[0;34m\u001b[0m\u001b[0m\n\u001b[0;32m---> 33\u001b[0;31m         \u001b[0mloss\u001b[0m\u001b[0;34m.\u001b[0m\u001b[0mbackward\u001b[0m\u001b[0;34m(\u001b[0m\u001b[0mretain_graph\u001b[0m\u001b[0;34m=\u001b[0m\u001b[0;32mTrue\u001b[0m\u001b[0;34m)\u001b[0m\u001b[0;34m\u001b[0m\u001b[0;34m\u001b[0m\u001b[0m\n\u001b[0m\u001b[1;32m     34\u001b[0m         \u001b[0;31m# Update parameters\u001b[0m\u001b[0;34m\u001b[0m\u001b[0;34m\u001b[0m\u001b[0;34m\u001b[0m\u001b[0m\n\u001b[1;32m     35\u001b[0m         \u001b[0moptimizer\u001b[0m\u001b[0;34m.\u001b[0m\u001b[0mstep\u001b[0m\u001b[0;34m(\u001b[0m\u001b[0;34m)\u001b[0m\u001b[0;34m\u001b[0m\u001b[0;34m\u001b[0m\u001b[0m\n",
      "\u001b[0;32m~/opt/anaconda3/lib/python3.7/site-packages/torch/tensor.py\u001b[0m in \u001b[0;36mbackward\u001b[0;34m(self, gradient, retain_graph, create_graph)\u001b[0m\n\u001b[1;32m    196\u001b[0m                 \u001b[0mproducts\u001b[0m\u001b[0;34m.\u001b[0m \u001b[0mDefaults\u001b[0m \u001b[0mto\u001b[0m\u001b[0;31m \u001b[0m\u001b[0;31m`\u001b[0m\u001b[0;31m`\u001b[0m\u001b[0;32mFalse\u001b[0m\u001b[0;31m`\u001b[0m\u001b[0;31m`\u001b[0m\u001b[0;34m.\u001b[0m\u001b[0;34m\u001b[0m\u001b[0;34m\u001b[0m\u001b[0m\n\u001b[1;32m    197\u001b[0m         \"\"\"\n\u001b[0;32m--> 198\u001b[0;31m         \u001b[0mtorch\u001b[0m\u001b[0;34m.\u001b[0m\u001b[0mautograd\u001b[0m\u001b[0;34m.\u001b[0m\u001b[0mbackward\u001b[0m\u001b[0;34m(\u001b[0m\u001b[0mself\u001b[0m\u001b[0;34m,\u001b[0m \u001b[0mgradient\u001b[0m\u001b[0;34m,\u001b[0m \u001b[0mretain_graph\u001b[0m\u001b[0;34m,\u001b[0m \u001b[0mcreate_graph\u001b[0m\u001b[0;34m)\u001b[0m\u001b[0;34m\u001b[0m\u001b[0;34m\u001b[0m\u001b[0m\n\u001b[0m\u001b[1;32m    199\u001b[0m \u001b[0;34m\u001b[0m\u001b[0m\n\u001b[1;32m    200\u001b[0m     \u001b[0;32mdef\u001b[0m \u001b[0mregister_hook\u001b[0m\u001b[0;34m(\u001b[0m\u001b[0mself\u001b[0m\u001b[0;34m,\u001b[0m \u001b[0mhook\u001b[0m\u001b[0;34m)\u001b[0m\u001b[0;34m:\u001b[0m\u001b[0;34m\u001b[0m\u001b[0;34m\u001b[0m\u001b[0m\n",
      "\u001b[0;32m~/opt/anaconda3/lib/python3.7/site-packages/torch/autograd/__init__.py\u001b[0m in \u001b[0;36mbackward\u001b[0;34m(tensors, grad_tensors, retain_graph, create_graph, grad_variables)\u001b[0m\n\u001b[1;32m     98\u001b[0m     Variable._execution_engine.run_backward(\n\u001b[1;32m     99\u001b[0m         \u001b[0mtensors\u001b[0m\u001b[0;34m,\u001b[0m \u001b[0mgrad_tensors\u001b[0m\u001b[0;34m,\u001b[0m \u001b[0mretain_graph\u001b[0m\u001b[0;34m,\u001b[0m \u001b[0mcreate_graph\u001b[0m\u001b[0;34m,\u001b[0m\u001b[0;34m\u001b[0m\u001b[0;34m\u001b[0m\u001b[0m\n\u001b[0;32m--> 100\u001b[0;31m         allow_unreachable=True)  # allow_unreachable flag\n\u001b[0m\u001b[1;32m    101\u001b[0m \u001b[0;34m\u001b[0m\u001b[0m\n\u001b[1;32m    102\u001b[0m \u001b[0;34m\u001b[0m\u001b[0m\n",
      "\u001b[0;31mRuntimeError\u001b[0m: Trying to backward through the graph a second time, but the buffers have already been freed. Specify retain_graph=True when calling backward the first time."
     ]
    }
   ],
   "source": [
    "#####################\n",
    "# Build model\n",
    "#####################\n",
    "\n",
    "#model = RNN(input_size, hidden_dim, batch_size=batch_size, output_dim=output_dim, num_layers=num_layers)\n",
    "\n",
    "#model = LSTM(input_size, hidden_dim, batch_size=batch_size, output_dim=output_dim, num_layers=num_layers)\n",
    "num_epochs = 1\n",
    "learning_rate = 0.001\n",
    "T = 10\n",
    "#loss_fn = torch.nn.MSELoss()\n",
    "optimizer = torch.optim.SGD(model.parameters(), lr=learning_rate)\n",
    "rounds = num_train//T\n",
    "#####################\n",
    "# Train model\n",
    "#####################\n",
    "\n",
    "mons = []\n",
    "\n",
    "for t in range(num_epochs):\n",
    "    \n",
    "    #model.hidden = model.init_hidden()\n",
    "    # Forward pass\n",
    "    for i in range(rounds):\n",
    "        #set_trace()\n",
    "        X_train_s = X_train[i*T:(i+1)*T]\n",
    "        y_train_s = y_train[i*T:(i+1)*T]\n",
    "        y_pred = model(X_train_s)\n",
    "        loss = cross_entropy(y_pred, y_train_s)\n",
    "\n",
    "        # Zero out gradient, else they will accumulate between epochs\n",
    "        optimizer.zero_grad()\n",
    "        loss.backward(retain_graph=True)\n",
    "        # Update parameters\n",
    "        optimizer.step()\n",
    "        \n",
    "        mons.append(loss.item())\n",
    "        progress = np.round((i/rounds)*100, 2)\n",
    "\n",
    "        summary = '\\rProgress: {}% complete \\n'\n",
    "        \n",
    "        if i % 200 == 0 and i != 0:\n",
    "            summary += 'Average loss: {} \\n'.format(sum(mons[-200:])/200)            \n",
    "            print(summary.format(progress))\n",
    "            \n",
    "\n"
   ]
  },
  {
   "cell_type": "code",
   "execution_count": null,
   "metadata": {},
   "outputs": [],
   "source": [
    "#####################\n",
    "# Plot preds and performance\n",
    "#####################\n",
    "softmax = nn.Softmax(dim=1)\n",
    "y_prob = softmax(y_pred)\n",
    "plt.plot(y_prob.detach().numpy()[:100,0],label=\"Preds\")\n",
    "plt.plot(y_train.detach().numpy()[:100,0],label=\"Data\")\n",
    "plt.legend()\n",
    "plt.show()\n",
    "\n",
    "plt.plot(hist, label=\"Training loss\")\n",
    "plt.legend()\n",
    "plt.show()\n"
   ]
  },
  {
   "cell_type": "code",
   "execution_count": null,
   "metadata": {},
   "outputs": [],
   "source": [
    "net = nn.LSTM(100, 100) #Assume only one layer\n",
    "w_ii, w_if, w_ic, w_io = net.weight_ih_l0.chunk(4, 0)\n",
    "w_hi, w_hf, w_hc, w_ho = net.weight_hh_l0.chunk(4, 0)\n"
   ]
  },
  {
   "cell_type": "code",
   "execution_count": null,
   "metadata": {},
   "outputs": [],
   "source": []
  }
 ],
 "metadata": {
  "kernelspec": {
   "display_name": "Python 3",
   "language": "python",
   "name": "python3"
  },
  "language_info": {
   "codemirror_mode": {
    "name": "ipython",
    "version": 3
   },
   "file_extension": ".py",
   "mimetype": "text/x-python",
   "name": "python",
   "nbconvert_exporter": "python",
   "pygments_lexer": "ipython3",
   "version": "3.7.4"
  }
 },
 "nbformat": 4,
 "nbformat_minor": 4
}
